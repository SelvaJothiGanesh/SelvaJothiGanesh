{
  "nbformat": 4,
  "nbformat_minor": 0,
  "metadata": {
    "colab": {
      "name": "Assignment4.ipynb",
      "provenance": [],
      "authorship_tag": "ABX9TyMp/bQX4CmfHvfgoq6RZPQG",
      "include_colab_link": true
    },
    "kernelspec": {
      "name": "python3",
      "display_name": "Python 3"
    },
    "language_info": {
      "name": "python"
    }
  },
  "cells": [
    {
      "cell_type": "markdown",
      "metadata": {
        "id": "view-in-github",
        "colab_type": "text"
      },
      "source": [
        "<a href=\"https://colab.research.google.com/github/SelvaJothiGanesh/SelvaJothiGanesh/blob/main/Assignment4.ipynb\" target=\"_parent\"><img src=\"https://colab.research.google.com/assets/colab-badge.svg\" alt=\"Open In Colab\"/></a>"
      ]
    },
    {
      "cell_type": "code",
      "execution_count": null,
      "metadata": {
        "id": "BSQ35mMQkdao"
      },
      "outputs": [],
      "source": [
        "def addition(a,b):\n",
        "  return a+b\n",
        "def subtraction(a,b):\n",
        "  return a-b\n",
        "def multiplication(a,b):\n",
        "  return a*b\n",
        "def division(a,b):\n",
        "  return a/b"
      ]
    },
    {
      "cell_type": "code",
      "source": [
        "from assignment4 import *\n",
        "\n",
        "a=addition(1,2)\n",
        "b=subtraction(9,7)\n",
        "c=multiplication(2,3)\n",
        "d=division(9,3)\n",
        "print(a,b,c,d)\n",
        "\n"
      ],
      "metadata": {
        "colab": {
          "base_uri": "https://localhost:8080/"
        },
        "id": "gaEBrcIwk4M7",
        "outputId": "79828f65-5e8a-43f3-e980-fd6da5f46f48"
      },
      "execution_count": 5,
      "outputs": [
        {
          "output_type": "stream",
          "name": "stdout",
          "text": [
            "3 2 6 3.0\n"
          ]
        }
      ]
    },
    {
      "cell_type": "code",
      "source": [
        "from assignment4 import addition\n",
        "a=addition(1,2)\n"
      ],
      "metadata": {
        "colab": {
          "base_uri": "https://localhost:8080/"
        },
        "id": "fFW37qWzl_Rj",
        "outputId": "9b0ac063-db2f-4ce3-8185-ff826895aef6"
      },
      "execution_count": 6,
      "outputs": [
        {
          "output_type": "stream",
          "name": "stdout",
          "text": [
            "3\n"
          ]
        }
      ]
    },
    {
      "cell_type": "code",
      "source": [
        "from assignment4 import subtraction\n",
        "a=subtraction(1,2)\n"
      ],
      "metadata": {
        "id": "gOhWbv3fmJ8M"
      },
      "execution_count": null,
      "outputs": []
    },
    {
      "cell_type": "code",
      "source": [
        "from assignment4 import multiplication,division\n",
        "c=multiplication(2,3)\n",
        "d=division(9,3)\n"
      ],
      "metadata": {
        "colab": {
          "base_uri": "https://localhost:8080/"
        },
        "outputId": "9b0ac063-db2f-4ce3-8185-ff826895aef6",
        "id": "Zgkr-kramLcE"
      },
      "execution_count": null,
      "outputs": [
        {
          "output_type": "stream",
          "name": "stdout",
          "text": [
            "3\n"
          ]
        }
      ]
    }
  ]
}