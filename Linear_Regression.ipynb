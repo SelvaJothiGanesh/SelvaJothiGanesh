{
  "nbformat": 4,
  "nbformat_minor": 0,
  "metadata": {
    "colab": {
      "name": "Linear Regression.ipynb",
      "provenance": [],
      "authorship_tag": "ABX9TyMh8+WchHCuIAy1DUA3PRG5",
      "include_colab_link": true
    },
    "kernelspec": {
      "name": "python3",
      "display_name": "Python 3"
    },
    "language_info": {
      "name": "python"
    }
  },
  "cells": [
    {
      "cell_type": "markdown",
      "metadata": {
        "id": "view-in-github",
        "colab_type": "text"
      },
      "source": [
        "<a href=\"https://colab.research.google.com/github/SelvaJothiGanesh/SelvaJothiGanesh/blob/main/Linear_Regression.ipynb\" target=\"_parent\"><img src=\"https://colab.research.google.com/assets/colab-badge.svg\" alt=\"Open In Colab\"/></a>"
      ]
    },
    {
      "cell_type": "code",
      "execution_count": 32,
      "metadata": {
        "colab": {
          "base_uri": "https://localhost:8080/"
        },
        "id": "SOhJFs1K8w7q",
        "outputId": "cf7a3763-f993-4fd1-9ed4-aed658089847"
      },
      "outputs": [
        {
          "output_type": "stream",
          "name": "stdout",
          "text": [
            "30\n",
            "30\n",
            "(20, 1)\n",
            "(20, 1)\n",
            "[26137.2400142]\n",
            "[[9158.13919873]]\n"
          ]
        }
      ],
      "source": [
        "import pandas as pd\n",
        "import matplotlib.pyplot as plt\n",
        "import numpy as np\n",
        "from sklearn.model_selection import train_test_split\n",
        "data = pd.read_csv(\"/content/data.csv\")\n",
        "x = pd.DataFrame(data[\"YearsExperience\"])\n",
        "y = pd.DataFrame(data[\"Salary\"])\n",
        "print(x.size)\n",
        "print(y.size)\n",
        "#print(m)\n",
        "X_train,X_test,Y_train,Y_test = train_test_split(x,y,test_size=0.33,random_state = 1)\n",
        "print(X_train.shape)\n",
        "print(Y_train.shape)\n",
        "from sklearn.linear_model import LinearRegression\n",
        "regressor = LinearRegression()\n",
        "regressor.fit(X_train,Y_train)\n",
        "print(regressor.intercept_)\n",
        "print(regressor.coef_)"
      ]
    },
    {
      "cell_type": "code",
      "source": [
        "y_pred = regressor.predict(X_test)\n",
        "y_pred = pd.DataFrame(y_pred,columns=['Predicted'])"
      ],
      "metadata": {
        "id": "d_DnBWU4ArGJ"
      },
      "execution_count": 33,
      "outputs": []
    },
    {
      "cell_type": "code",
      "source": [
        "from sklearn import metrics\n",
        "import numpy as np\n",
        "\n",
        "print('Mean Absolute Error:',metrics.mean_absolute_error(Y_test,y_pred))\n",
        "print('Mean Squared Error:',metrics.mean_squared_error(Y_test,y_pred))\n",
        "print('Root Mean Squared Error:',np.sqrt(metrics.mean_squared_error(Y_test,y_pred)))\n",
        "print(\"R2 Score =\",round(metrics.r2_score(Y_test,y_pred),2))\n"
      ],
      "metadata": {
        "colab": {
          "base_uri": "https://localhost:8080/"
        },
        "id": "8-liLr4jB0q8",
        "outputId": "b22b6eb1-f3e7-4b0f-d384-1967dd079d5d"
      },
      "execution_count": 36,
      "outputs": [
        {
          "output_type": "stream",
          "name": "stdout",
          "text": [
            "Mean Absolute Error: 5049.818093659747\n",
            "Mean Squared Error: 37496296.61879842\n",
            "Root Mean Squared Error: 6123.421969683162\n",
            "R2 Score = 0.92\n"
          ]
        }
      ]
    }
  ]
}