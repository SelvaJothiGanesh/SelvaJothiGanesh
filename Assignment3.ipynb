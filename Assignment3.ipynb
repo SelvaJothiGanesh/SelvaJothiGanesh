{
  "nbformat": 4,
  "nbformat_minor": 0,
  "metadata": {
    "colab": {
      "name": "Untitled5.ipynb",
      "provenance": [],
      "authorship_tag": "ABX9TyPdVZTRr9pmLm94p/qgJT5y",
      "include_colab_link": true
    },
    "kernelspec": {
      "name": "python3",
      "display_name": "Python 3"
    },
    "language_info": {
      "name": "python"
    }
  },
  "cells": [
    {
      "cell_type": "markdown",
      "metadata": {
        "id": "view-in-github",
        "colab_type": "text"
      },
      "source": [
        "<a href=\"https://colab.research.google.com/github/SelvaJothiGanesh/SelvaJothiGanesh/blob/main/Assignment3.ipynb\" target=\"_parent\"><img src=\"https://colab.research.google.com/assets/colab-badge.svg\" alt=\"Open In Colab\"/></a>"
      ]
    },
    {
      "cell_type": "code",
      "execution_count": 3,
      "metadata": {
        "colab": {
          "base_uri": "https://localhost:8080/"
        },
        "id": "tqZg9eVxeB79",
        "outputId": "6e311a62-0834-4e53-8dc8-58ce729def54"
      },
      "outputs": [
        {
          "output_type": "stream",
          "name": "stdout",
          "text": [
            "This is function 1 in the Modified Super class.\n"
          ]
        }
      ],
      "source": [
        "class Super():\n",
        "  def fun1(self):\n",
        "    print(\"This is function 1 in the Super class.\")\n",
        "class Modified_Super():\n",
        "  def fun1(self):\n",
        "    print(\"This is function 1 in the Modified Super class.\")\n",
        "  def fun2(self):\n",
        "    print(\"This is the 2nd function from the Modified Super class\")\n",
        "c=Modified_Super()\n",
        "c.fun1"
      ]
    },
    {
      "cell_type": "code",
      "source": [
        "def Hello(a):\n",
        "  print(a)\n",
        "def Hello(a,b):\n",
        "  print(a)\n",
        "\n",
        "Hello(\"This function is only having 2 argument\",1)\n"
      ],
      "metadata": {
        "colab": {
          "base_uri": "https://localhost:8080/"
        },
        "id": "Hn-H-0U_fbBP",
        "outputId": "25d85a71-1917-4506-a343-2d4212a0a816"
      },
      "execution_count": 9,
      "outputs": [
        {
          "output_type": "stream",
          "name": "stdout",
          "text": [
            "This function is only having 2 argument\n"
          ]
        }
      ]
    },
    {
      "cell_type": "code",
      "source": [
        "def Sum(n,message):\n",
        "  sum =0\n",
        "  for i in range(n):\n",
        "    sum+=int(message[i])\n",
        "  return sum\n",
        "val = int(input(\"Enter number of inputs\"))\n",
        "val2 = list(map(int,input(\"Enter values\").split()))\n",
        "c=Sum(val,val2)\n",
        "print(c)\n"
      ],
      "metadata": {
        "colab": {
          "base_uri": "https://localhost:8080/"
        },
        "id": "Wt_bIsK7g2NV",
        "outputId": "6b42e10d-d54a-4b8e-b00f-987a0352bb17"
      },
      "execution_count": 19,
      "outputs": [
        {
          "output_type": "stream",
          "name": "stdout",
          "text": [
            "Enter number of inputs3\n",
            "Enter values3 4 5\n",
            "12\n"
          ]
        }
      ]
    },
    {
      "cell_type": "code",
      "source": [
        "class Encapsulation():\n",
        "  def __init__(self):\n",
        "    self.originalValue = 10\n",
        "  def Value(self):\n",
        "    return self.originalValue\n",
        "  def setValue(self,newvalue):\n",
        "    self.originalValue = newvalue\n",
        "a=Encapsulation()\n",
        "a.setValue(20)\n",
        "print(a.originalValue)"
      ],
      "metadata": {
        "colab": {
          "base_uri": "https://localhost:8080/"
        },
        "id": "Q-HtawI7iLFf",
        "outputId": "bcefcec4-bba6-49ea-9e0a-884617ac4ae0"
      },
      "execution_count": 24,
      "outputs": [
        {
          "output_type": "stream",
          "name": "stdout",
          "text": [
            "20\n"
          ]
        }
      ]
    }
  ]
}