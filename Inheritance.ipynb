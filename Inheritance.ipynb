{
  "nbformat": 4,
  "nbformat_minor": 0,
  "metadata": {
    "colab": {
      "name": "Untitled4.ipynb",
      "provenance": [],
      "authorship_tag": "ABX9TyPgpib5P/D3WhkPp1aZbc15",
      "include_colab_link": true
    },
    "kernelspec": {
      "name": "python3",
      "display_name": "Python 3"
    },
    "language_info": {
      "name": "python"
    }
  },
  "cells": [
    {
      "cell_type": "markdown",
      "metadata": {
        "id": "view-in-github",
        "colab_type": "text"
      },
      "source": [
        "<a href=\"https://colab.research.google.com/github/SelvaJothiGanesh/SelvaJothiGanesh/blob/main/Inheritance.ipynb\" target=\"_parent\"><img src=\"https://colab.research.google.com/assets/colab-badge.svg\" alt=\"Open In Colab\"/></a>"
      ]
    },
    {
      "cell_type": "code",
      "execution_count": 16,
      "metadata": {
        "colab": {
          "base_uri": "https://localhost:8080/"
        },
        "id": "na7kSfvhUBUp",
        "outputId": "1ece174e-55ed-40d4-fdeb-4df90620cbd4"
      },
      "outputs": [
        {
          "output_type": "stream",
          "name": "stdout",
          "text": [
            "10\n"
          ]
        }
      ],
      "source": [
        "class  parent_Class():\n",
        "  num=10\n",
        "  def __init__(self):\n",
        "    self.num1=10\n",
        "class child_Class(parent_Class):\n",
        "  def solution(self):\n",
        "    a = parent_Class()\n",
        "    print(a.num)\n",
        "b=child_Class()\n",
        "print(b.num)"
      ]
    },
    {
      "cell_type": "code",
      "source": [
        "class A():\n",
        "  def __init__(self):\n",
        "    self.name=\"Jothi\"\n",
        "    self.age=26\n",
        "  def details(self):\n",
        "    return self.name\n",
        "class B():\n",
        "  def __init__(self):\n",
        "    self.name=\"Ram\"\n",
        "    self.id=10\n",
        "  def details(Self):\n",
        "    return self.name\n",
        "class C(A,B):\n",
        "  def __init__(self):\n",
        "    A.__init__(self)\n",
        "  def get_details(self):\n",
        "    return self.name\n",
        "c=C()\n",
        "c.get_details()\n",
        "\n",
        "\n"
      ],
      "metadata": {
        "colab": {
          "base_uri": "https://localhost:8080/",
          "height": 35
        },
        "id": "F6uF7qjQWN9V",
        "outputId": "997d2c94-c74d-4b69-9cb4-e481a5cf5365"
      },
      "execution_count": 20,
      "outputs": [
        {
          "output_type": "execute_result",
          "data": {
            "application/vnd.google.colaboratory.intrinsic+json": {
              "type": "string"
            },
            "text/plain": [
              "'Jothi'"
            ]
          },
          "metadata": {},
          "execution_count": 20
        }
      ]
    },
    {
      "cell_type": "code",
      "source": [
        "class Sub1():\n",
        "  def first(self):\n",
        "    print(\"This is the first functionfrom Sub 1 class\")\n",
        "class Sub2():\n",
        "  def second(self):\n",
        "    print(\"This is the second functionfrom Sub 2 class\")\n",
        "class Super(Sub1,Sub2):\n",
        "  def third(self):\n",
        "    print(\"This is the final functionfrom Super class\")\n",
        "c = Super()\n",
        "c.first()\n",
        "c.second()\n",
        "c.third()"
      ],
      "metadata": {
        "colab": {
          "base_uri": "https://localhost:8080/"
        },
        "id": "McWrDEVyZYbF",
        "outputId": "e41cdf54-affd-4193-9e68-8e219dae050b"
      },
      "execution_count": 24,
      "outputs": [
        {
          "output_type": "stream",
          "name": "stdout",
          "text": [
            "This is the first functionfrom Sub 1 class\n",
            "This is the second functionfrom Sub 2 class\n",
            "This is the final functionfrom Super class\n"
          ]
        }
      ]
    },
    {
      "cell_type": "code",
      "source": [
        "class Parent():\n",
        "  def fun1(self):\n",
        "    print(\"This is the message from the fun1\")\n",
        "class Child1():\n",
        "  def fun2(self):\n",
        "    print(\"This is the message from the fun2\")\n",
        "class Child2(Parent):\n",
        "  def fun3(self):\n",
        "    print(\"This is the message from the fun3\")\n",
        "c= Child2()\n",
        "c.fun1()"
      ],
      "metadata": {
        "colab": {
          "base_uri": "https://localhost:8080/"
        },
        "id": "Z18Evd3NcBkG",
        "outputId": "1f5671e3-919d-4872-e66a-dd5aeb26210c"
      },
      "execution_count": 26,
      "outputs": [
        {
          "output_type": "stream",
          "name": "stdout",
          "text": [
            "This is the message from the fun1\n"
          ]
        }
      ]
    },
    {
      "cell_type": "code",
      "source": [
        "class Parent():\n",
        "  def fun1(self):\n",
        "    print(\"This is the message from the fun1\")\n",
        "class Child():\n",
        "  def fun2(self):\n",
        "    print(\"This is the message from the fun2\")\n",
        "class Hybrid(Parent,Child):\n",
        "  def fun3(self):\n",
        "    print(\"This is the message from the fun3\")\n",
        "c= Hybrid()\n",
        "c.fun1()\n",
        "c.fun2()\n",
        "c.fun3()"
      ],
      "metadata": {
        "colab": {
          "base_uri": "https://localhost:8080/"
        },
        "id": "aNyWWXxxdRMn",
        "outputId": "542d58d8-b94c-461a-afee-99f87836398f"
      },
      "execution_count": 27,
      "outputs": [
        {
          "output_type": "stream",
          "name": "stdout",
          "text": [
            "This is the message from the fun1\n",
            "This is the message from the fun2\n",
            "This is the message from the fun3\n"
          ]
        }
      ]
    }
  ]
}